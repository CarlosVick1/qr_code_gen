{
 "cells": [
  {
   "cell_type": "markdown",
   "id": "f0cd7cf7",
   "metadata": {},
   "source": [
    "Install Library.\n",
    "    Type 'pip install qrcode'"
   ]
  },
  {
   "cell_type": "code",
   "execution_count": 1,
   "id": "95a12b28",
   "metadata": {},
   "outputs": [],
   "source": [
    "import qrcode"
   ]
  },
  {
   "cell_type": "markdown",
   "id": "c3f26cbe",
   "metadata": {},
   "source": [
    "Create Function, Save new file, User input, and Run function"
   ]
  },
  {
   "cell_type": "code",
   "execution_count": 5,
   "id": "536139af",
   "metadata": {},
   "outputs": [
    {
     "name": "stdout",
     "output_type": "stream",
     "text": [
      "Type your Information: https://www.w3schools.com/python/python_functions.asp\n"
     ]
    }
   ],
   "source": [
    "def generate_qrcode(text):\n",
    "#def generate_qrcode(img):\n",
    "    \n",
    "    qrc = qrcode.QRCode(\n",
    "        version = 2,\n",
    "        error_correction = qrcode.constants.ERROR_CORRECT_L,\n",
    "        box_size = 11,\n",
    "        border = 1,\n",
    "    )\n",
    "    \n",
    "    qrc.add_data(text)\n",
    "    #qrc.add_data(img)\n",
    "    qrc.make(fit=True)\n",
    "    image = qrc.make_image(fill_color=\"black\", back_color=\"white\")\n",
    "    image.save(\"New.png\")\n",
    "\n",
    "Info = input(\"Type your Information: \")\n",
    "generate_qrcode(Info)"
   ]
  },
  {
   "cell_type": "code",
   "execution_count": null,
   "id": "3500404f",
   "metadata": {},
   "outputs": [],
   "source": []
  }
 ],
 "metadata": {
  "kernelspec": {
   "display_name": "Python 3 (ipykernel)",
   "language": "python",
   "name": "python3"
  },
  "language_info": {
   "codemirror_mode": {
    "name": "ipython",
    "version": 3
   },
   "file_extension": ".py",
   "mimetype": "text/x-python",
   "name": "python",
   "nbconvert_exporter": "python",
   "pygments_lexer": "ipython3",
   "version": "3.10.11"
  }
 },
 "nbformat": 4,
 "nbformat_minor": 5
}
